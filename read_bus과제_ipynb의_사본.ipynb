{
  "nbformat": 4,
  "nbformat_minor": 0,
  "metadata": {
    "colab": {
      "provenance": [],
      "include_colab_link": true
    },
    "kernelspec": {
      "name": "python3",
      "display_name": "Python 3"
    },
    "language_info": {
      "name": "python"
    }
  },
  "cells": [
    {
      "cell_type": "markdown",
      "metadata": {
        "id": "view-in-github",
        "colab_type": "text"
      },
      "source": [
        "<a href=\"https://colab.research.google.com/github/yhee527/internet/blob/main/read_bus%EA%B3%BC%EC%A0%9C_ipynb%EC%9D%98_%EC%82%AC%EB%B3%B8.ipynb\" target=\"_parent\"><img src=\"https://colab.research.google.com/assets/colab-badge.svg\" alt=\"Open In Colab\"/></a>"
      ]
    },
    {
      "cell_type": "code",
      "execution_count": null,
      "metadata": {
        "id": "11x5B7xkQPmN",
        "outputId": "75835057-4987-4b76-ca26-b231fe3458b4",
        "colab": {
          "base_uri": "https://localhost:8080/"
        }
      },
      "outputs": [
        {
          "output_type": "stream",
          "name": "stdout",
          "text": [
            "<?xml version=\"1.0\" encoding=\"UTF-8\" standalone=\"yes\"?><response><comMsgHeader/><msgHeader><queryTime>2024-03-14 13:35:37.183</queryTime><resultCode>0</resultCode><resultMessage>정상적으로 처리되었습니다.</resultMessage></msgHeader><msgBody><busLocationList><endBus>0</endBus><lowPlate>0</lowPlate><plateNo>경기70아7563</plateNo><plateType>3</plateType><remainSeatCnt>-1</remainSeatCnt><routeId>204000141</routeId><stationId>100000169</stationId><stationSeq>35</stationSeq></busLocationList><busLocationList><endBus>0</endBus><lowPlate>0</lowPlate><plateNo>경기70아7559</plateNo><plateType>3</plateType><remainSeatCnt>42</remainSeatCnt><routeId>204000141</routeId><stationId>204000332</stationId><stationSeq>6</stationSeq></busLocationList><busLocationList><endBus>0</endBus><lowPlate>0</lowPlate><plateNo>경기70아7567</plateNo><plateType>3</plateType><remainSeatCnt>38</remainSeatCnt><routeId>204000141</routeId><stationId>121000225</stationId><stationSeq>52</stationSeq></busLocationList><busLocationList><endBus>0</endBus><lowPlate>0</lowPlate><plateNo>경기70아7568</plateNo><plateType>3</plateType><remainSeatCnt>38</remainSeatCnt><routeId>204000141</routeId><stationId>101000148</stationId><stationSeq>43</stationSeq></busLocationList><busLocationList><endBus>0</endBus><lowPlate>0</lowPlate><plateNo>경기70아7564</plateNo><plateType>3</plateType><remainSeatCnt>45</remainSeatCnt><routeId>204000141</routeId><stationId>204000326</stationId><stationSeq>76</stationSeq></busLocationList><busLocationList><endBus>0</endBus><lowPlate>0</lowPlate><plateNo>경기70아7560</plateNo><plateType>3</plateType><remainSeatCnt>33</remainSeatCnt><routeId>204000141</routeId><stationId>277104514</stationId><stationSeq>25</stationSeq></busLocationList></msgBody></response>\n"
          ]
        }
      ],
      "source": [
        "import requests\n",
        "url='http://apis.data.go.kr/6410000/buslocationservice/getBusLocationList?serviceKey=86L5mvF1py7ZFtOLQikiKNo1uc%2F4t7Jd6e7HXyu6JDj9fge0Welc8ie0%2BlYFWDAT0Yn%2FIzkM2ZQo8eLWXjWWVQ%3D%3D&routeId=204000141'\n",
        "r = requests.get(url)\n",
        "print(r.text)\n"
      ]
    },
    {
      "cell_type": "code",
      "source": [
        "from bs4 import BeautifulSoup\n",
        "\n",
        "soup = BeautifulSoup(r.text, features=\"xml\")"
      ],
      "metadata": {
        "id": "hW7PWVFYP-Ey"
      },
      "execution_count": null,
      "outputs": []
    },
    {
      "cell_type": "code",
      "source": [
        "soup.find_all('stationId')"
      ],
      "metadata": {
        "id": "RQf5g4DjPma0",
        "outputId": "8d0aa9bd-67f6-4b1a-f74b-36dc284cb71c",
        "colab": {
          "base_uri": "https://localhost:8080/"
        }
      },
      "execution_count": null,
      "outputs": [
        {
          "output_type": "execute_result",
          "data": {
            "text/plain": [
              "[<stationId>100000169</stationId>,\n",
              " <stationId>204000332</stationId>,\n",
              " <stationId>121000225</stationId>,\n",
              " <stationId>101000148</stationId>,\n",
              " <stationId>204000326</stationId>,\n",
              " <stationId>277104514</stationId>]"
            ]
          },
          "metadata": {},
          "execution_count": 15
        }
      ]
    },
    {
      "cell_type": "code",
      "source": [],
      "metadata": {
        "id": "607VKsR9Qd9D"
      },
      "execution_count": null,
      "outputs": []
    }
  ]
}