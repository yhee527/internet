{
  "nbformat": 4,
  "nbformat_minor": 0,
  "metadata": {
    "colab": {
      "provenance": [],
      "include_colab_link": true
    },
    "kernelspec": {
      "name": "python3",
      "display_name": "Python 3"
    },
    "language_info": {
      "name": "python"
    }
  },
  "cells": [
    {
      "cell_type": "markdown",
      "metadata": {
        "id": "view-in-github",
        "colab_type": "text"
      },
      "source": [
        "<a href=\"https://colab.research.google.com/github/yhee527/internet/blob/main/movie_ticket%EA%B3%BC%EC%A0%9C_ipynb%EC%9D%98_%EC%82%AC%EB%B3%B8.ipynb\" target=\"_parent\"><img src=\"https://colab.research.google.com/assets/colab-badge.svg\" alt=\"Open In Colab\"/></a>"
      ]
    },
    {
      "cell_type": "code",
      "execution_count": null,
      "metadata": {
        "id": "jWa-CkhcVIbE",
        "colab": {
          "base_uri": "https://localhost:8080/"
        },
        "outputId": "4b8f3e8f-9197-4eed-8721-4b873d740034"
      },
      "outputs": [
        {
          "output_type": "stream",
          "name": "stdout",
          "text": [
            "<?xml version=\"1.0\" encoding=\"utf-8\" standalone=\"yes\"?><boxOfficeResult><boxofficeType>주간 박스오피스</boxofficeType><showRange>20240304~20240310</showRange><yearWeekTime>202410</yearWeekTime><weeklyBoxOfficeList><weeklyBoxOffice><rnum>1</rnum><rank>1</rank><rankInten>0</rankInten><rankOldAndNew>OLD</rankOldAndNew><movieCd>20234675</movieCd><movieNm>파묘</movieNm><openDt>2024-02-22</openDt><salesAmt>19498085836</salesAmt><salesShare>67.4</salesShare><salesInten>-16092811359</salesInten><salesChange>-45.2</salesChange><salesAcc>77505876475</salesAcc><audiCnt>2008776</audiCnt><audiInten>-1722960</audiInten><audiChange>-46.2</audiChange><audiAcc>8041952</audiAcc><scrnCnt>2164</scrnCnt><showCnt>57908</showCnt></weeklyBoxOffice><weeklyBoxOffice><rnum>2</rnum><rank>2</rank><rankInten>0</rankInten><rankOldAndNew>OLD</rankOldAndNew><movieCd>20236295</movieCd><movieNm>듄: 파트2</movieNm><openDt>2024-02-28</openDt><salesAmt>5482251939</salesAmt><salesShare>19.0</salesShare><salesInten>-3539322255</salesInten><salesChange>-39.2</salesChange><salesAcc>14522768133</salesAcc><audiCnt>461891</audiCnt><audiInten>-357690</audiInten><audiChange>-43.6</audiChange><audiAcc>1282678</audiAcc><scrnCnt>1091</scrnCnt><showCnt>19523</showCnt></weeklyBoxOffice><weeklyBoxOffice><rnum>3</rnum><rank>3</rank><rankInten>0</rankInten><rankOldAndNew>OLD</rankOldAndNew><movieCd>20236180</movieCd><movieNm>웡카</movieNm><openDt>2024-01-31</openDt><salesAmt>1043718908</salesAmt><salesShare>3.6</salesShare><salesInten>-1972445448</salesInten><salesChange>-65.4</salesChange><salesAcc>32757935870</salesAcc><audiCnt>108918</audiCnt><audiInten>-218419</audiInten><audiChange>-66.7</audiChange><audiAcc>3406873</audiAcc><scrnCnt>645</scrnCnt><showCnt>6960</showCnt></weeklyBoxOffice><weeklyBoxOffice><rnum>4</rnum><rank>4</rank><rankInten>18</rankInten><rankOldAndNew>OLD</rankOldAndNew><movieCd>20236732</movieCd><movieNm>가여운 것들</movieNm><openDt>2024-03-06</openDt><salesAmt>595300954</salesAmt><salesShare>2.1</salesShare><salesInten>570186039</salesInten><salesChange>2270.3</salesChange><salesAcc>652026459</salesAcc><audiCnt>60091</audiCnt><audiInten>57696</audiInten><audiChange>2409.0</audiChange><audiAcc>65421</audiAcc><scrnCnt>471</scrnCnt><showCnt>3845</showCnt></weeklyBoxOffice><weeklyBoxOffice><rnum>5</rnum><rank>5</rank><rankInten>11</rankInten><rankOldAndNew>OLD</rankOldAndNew><movieCd>20234789</movieCd><movieNm>패스트 라이브즈</movieNm><openDt>2024-03-06</openDt><salesAmt>435688740</salesAmt><salesShare>1.5</salesShare><salesInten>379045664</salesInten><salesChange>669.2</salesChange><salesAcc>492331816</salesAcc><audiCnt>49246</audiCnt><audiInten>43395</audiInten><audiChange>741.7</audiChange><audiAcc>55097</audiAcc><scrnCnt>613</scrnCnt><showCnt>5160</showCnt></weeklyBoxOffice><weeklyBoxOffice><rnum>6</rnum><rank>6</rank><rankInten>-2</rankInten><rankOldAndNew>OLD</rankOldAndNew><movieCd>20247074</movieCd><movieNm>건국전쟁</movieNm><openDt>2024-02-01</openDt><salesAmt>427566477</salesAmt><salesShare>1.5</salesShare><salesInten>-696080054</salesInten><salesChange>-61.9</salesChange><salesAcc>10618599947</salesAcc><audiCnt>48363</audiCnt><audiInten>-77822</audiInten><audiChange>-61.7</audiChange><audiAcc>1141075</audiAcc><scrnCnt>453</scrnCnt><showCnt>3766</showCnt></weeklyBoxOffice><weeklyBoxOffice><rnum>7</rnum><rank>7</rank><rankInten>-2</rankInten><rankOldAndNew>OLD</rankOldAndNew><movieCd>20247437</movieCd><movieNm>브레드이발소: 셀럽 인 베이커리타운</movieNm><openDt>2024-03-01</openDt><salesAmt>358290470</salesAmt><salesShare>1.2</salesShare><salesInten>-375634180</salesInten><salesChange>-51.2</salesChange><salesAcc>1266364010</salesAcc><audiCnt>42417</audiCnt><audiInten>-43671</audiInten><audiChange>-50.7</audiChange><audiAcc>147380</audiAcc><scrnCnt>330</scrnCnt><showCnt>1954</showCnt></weeklyBoxOffice><weeklyBoxOffice><rnum>8</rnum><rank>8</rank><rankInten>-2</rankInten><rankOldAndNew>OLD</rankOldAndNew><movieCd>20247076</movieCd><movieNm>귀멸의 칼날: 인연의 기적, 그리고 합동 강화 훈련으로</movieNm><openDt>2024-02-14</openDt><salesAmt>220733500</salesAmt><salesShare>0.8</salesShare><salesInten>-425801300</salesInten><salesChange>-65.9</salesChange><salesAcc>5442660700</salesAcc><audiCnt>21562</audiCnt><audiInten>-42312</audiInten><audiChange>-66.2</audiChange><audiAcc>479674</audiAcc><scrnCnt>241</scrnCnt><showCnt>2080</showCnt></weeklyBoxOffice><weeklyBoxOffice><rnum>9</rnum><rank>9</rank><rankInten>-2</rankInten><rankOldAndNew>OLD</rankOldAndNew><movieCd>20247473</movieCd><movieNm>아이엠 티라노</movieNm><openDt>2024-03-01</openDt><salesAmt>81179700</salesAmt><salesShare>0.3</salesShare><salesInten>-202466300</salesInten><salesChange>-71.4</salesChange><salesAcc>380985500</salesAcc><audiCnt>9521</audiCnt><audiInten>-24441</audiInten><audiChange>-72.0</audiChange><audiAcc>45256</audiAcc><scrnCnt>190</scrnCnt><showCnt>925</showCnt></weeklyBoxOffice><weeklyBoxOffice><rnum>10</rnum><rank>10</rank><rankInten>-2</rankInten><rankOldAndNew>OLD</rankOldAndNew><movieCd>20231415</movieCd><movieNm>소풍</movieNm><openDt>2024-02-07</openDt><salesAmt>79673739</salesAmt><salesShare>0.3</salesShare><salesInten>-120209452</salesInten><salesChange>-60.1</salesChange><salesAcc>2977628149</salesAcc><audiCnt>9340</audiCnt><audiInten>-13764</audiInten><audiChange>-59.6</audiChange><audiAcc>332667</audiAcc><scrnCnt>96</scrnCnt><showCnt>665</showCnt></weeklyBoxOffice></weeklyBoxOfficeList></boxOfficeResult>\n"
          ]
        }
      ],
      "source": [
        "import requests\n",
        "from bs4 import BeautifulSoup\n",
        "\n",
        "r = requests.get('https://www.kobis.or.kr/kobisopenapi/webservice/rest/boxoffice/searchWeeklyBoxOfficeList.xml?key=d02d1fc69805a6ed8b891324190cd143&targetDt=20240306&weekGb=0&itemPerPage=10')\n",
        "print(r.text)"
      ]
    },
    {
      "cell_type": "code",
      "source": [
        "soup = BeautifulSoup(r.text, features=\"xml\")"
      ],
      "metadata": {
        "id": "DJE9eaf6V6fU"
      },
      "execution_count": null,
      "outputs": []
    },
    {
      "cell_type": "code",
      "source": [
        "soup.find_all('movieNm')"
      ],
      "metadata": {
        "id": "zhcEeC7-V-fd",
        "outputId": "712376d3-8d39-404d-965e-c25afafd2432",
        "colab": {
          "base_uri": "https://localhost:8080/"
        }
      },
      "execution_count": null,
      "outputs": [
        {
          "output_type": "execute_result",
          "data": {
            "text/plain": [
              "[<movieNm>파묘</movieNm>,\n",
              " <movieNm>듄: 파트2</movieNm>,\n",
              " <movieNm>웡카</movieNm>,\n",
              " <movieNm>가여운 것들</movieNm>,\n",
              " <movieNm>패스트 라이브즈</movieNm>,\n",
              " <movieNm>건국전쟁</movieNm>,\n",
              " <movieNm>브레드이발소: 셀럽 인 베이커리타운</movieNm>,\n",
              " <movieNm>귀멸의 칼날: 인연의 기적, 그리고 합동 강화 훈련으로</movieNm>,\n",
              " <movieNm>아이엠 티라노</movieNm>,\n",
              " <movieNm>소풍</movieNm>]"
            ]
          },
          "metadata": {},
          "execution_count": 11
        }
      ]
    },
    {
      "cell_type": "code",
      "source": [
        "soup.find_all('audiCnt')"
      ],
      "metadata": {
        "id": "XTdwmRxGWVXj",
        "outputId": "76bf4c58-c123-40cb-e7c9-a4b7d9d73a4c",
        "colab": {
          "base_uri": "https://localhost:8080/"
        }
      },
      "execution_count": null,
      "outputs": [
        {
          "output_type": "execute_result",
          "data": {
            "text/plain": [
              "[<audiCnt>2008776</audiCnt>,\n",
              " <audiCnt>461891</audiCnt>,\n",
              " <audiCnt>108918</audiCnt>,\n",
              " <audiCnt>60091</audiCnt>,\n",
              " <audiCnt>49246</audiCnt>,\n",
              " <audiCnt>48363</audiCnt>,\n",
              " <audiCnt>42417</audiCnt>,\n",
              " <audiCnt>21562</audiCnt>,\n",
              " <audiCnt>9521</audiCnt>,\n",
              " <audiCnt>9340</audiCnt>]"
            ]
          },
          "metadata": {},
          "execution_count": 12
        }
      ]
    },
    {
      "cell_type": "code",
      "source": [],
      "metadata": {
        "id": "rghJdYEwWbTU"
      },
      "execution_count": null,
      "outputs": []
    }
  ]
}